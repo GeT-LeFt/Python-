{
 "cells": [
  {
   "cell_type": "code",
   "execution_count": 147,
   "metadata": {},
   "outputs": [],
   "source": [
    "import pandas as pd\n",
    "import numpy as np\n",
    "import matplotlib.pyplot as plt\n",
    "import matplotlib"
   ]
  },
  {
   "cell_type": "markdown",
   "metadata": {},
   "source": [
    "# Question A"
   ]
  },
  {
   "cell_type": "code",
   "execution_count": 148,
   "metadata": {},
   "outputs": [],
   "source": [
    "df = pd.read_csv('train.csv')"
   ]
  },
  {
   "cell_type": "code",
   "execution_count": 149,
   "metadata": {},
   "outputs": [],
   "source": [
    "df['year']=df['date'].apply(lambda x:x[:4]).astype('int')"
   ]
  },
  {
   "cell_type": "code",
   "execution_count": 150,
   "metadata": {},
   "outputs": [
    {
     "data": {
      "text/html": [
       "<div>\n",
       "<style scoped>\n",
       "    .dataframe tbody tr th:only-of-type {\n",
       "        vertical-align: middle;\n",
       "    }\n",
       "\n",
       "    .dataframe tbody tr th {\n",
       "        vertical-align: top;\n",
       "    }\n",
       "\n",
       "    .dataframe thead th {\n",
       "        text-align: right;\n",
       "    }\n",
       "</style>\n",
       "<table border=\"1\" class=\"dataframe\">\n",
       "  <thead>\n",
       "    <tr style=\"text-align: right;\">\n",
       "      <th></th>\n",
       "      <th>date</th>\n",
       "      <th>news</th>\n",
       "      <th>label</th>\n",
       "      <th>year</th>\n",
       "    </tr>\n",
       "  </thead>\n",
       "  <tbody>\n",
       "    <tr>\n",
       "      <th>0</th>\n",
       "      <td>2002-04-26</td>\n",
       "      <td>KPNQwest yesterday saw its shares lose nearly...</td>\n",
       "      <td>2</td>\n",
       "      <td>2002</td>\n",
       "    </tr>\n",
       "    <tr>\n",
       "      <th>1</th>\n",
       "      <td>1998-04-04</td>\n",
       "      <td>From Mr Anthony H Rowley Sir So-called Cool B...</td>\n",
       "      <td>1</td>\n",
       "      <td>1998</td>\n",
       "    </tr>\n",
       "    <tr>\n",
       "      <th>2</th>\n",
       "      <td>2002-06-21</td>\n",
       "      <td>MobilCom jitters hit France Telecom France Te...</td>\n",
       "      <td>2</td>\n",
       "      <td>2002</td>\n",
       "    </tr>\n",
       "    <tr>\n",
       "      <th>3</th>\n",
       "      <td>2002-06-14</td>\n",
       "      <td>The US administration will need to offer heav...</td>\n",
       "      <td>3</td>\n",
       "      <td>2002</td>\n",
       "    </tr>\n",
       "    <tr>\n",
       "      <th>4</th>\n",
       "      <td>1998-04-01</td>\n",
       "      <td>Government plans to make fraudulent or neglig...</td>\n",
       "      <td>3</td>\n",
       "      <td>1998</td>\n",
       "    </tr>\n",
       "    <tr>\n",
       "      <th>...</th>\n",
       "      <td>...</td>\n",
       "      <td>...</td>\n",
       "      <td>...</td>\n",
       "      <td>...</td>\n",
       "    </tr>\n",
       "    <tr>\n",
       "      <th>1325</th>\n",
       "      <td>2002-06-21</td>\n",
       "      <td>The political career of Makiko Tanaka Japan's...</td>\n",
       "      <td>3</td>\n",
       "      <td>2002</td>\n",
       "    </tr>\n",
       "    <tr>\n",
       "      <th>1326</th>\n",
       "      <td>2002-06-07</td>\n",
       "      <td>The ghost of Stephen Byers returned to haunt ...</td>\n",
       "      <td>3</td>\n",
       "      <td>2002</td>\n",
       "    </tr>\n",
       "    <tr>\n",
       "      <th>1327</th>\n",
       "      <td>2002-06-21</td>\n",
       "      <td>From Mr Hans Ekdahl Sir The US recently slamm...</td>\n",
       "      <td>3</td>\n",
       "      <td>2002</td>\n",
       "    </tr>\n",
       "    <tr>\n",
       "      <th>1328</th>\n",
       "      <td>2002-06-29</td>\n",
       "      <td>When Bernie Ebbers was ousted as WorldCom's c...</td>\n",
       "      <td>2</td>\n",
       "      <td>2002</td>\n",
       "    </tr>\n",
       "    <tr>\n",
       "      <th>1329</th>\n",
       "      <td>2002-06-25</td>\n",
       "      <td>It would be easy for policy-makers to lull th...</td>\n",
       "      <td>2</td>\n",
       "      <td>2002</td>\n",
       "    </tr>\n",
       "  </tbody>\n",
       "</table>\n",
       "<p>1330 rows × 4 columns</p>\n",
       "</div>"
      ],
      "text/plain": [
       "            date                                               news  label  \\\n",
       "0     2002-04-26   KPNQwest yesterday saw its shares lose nearly...      2   \n",
       "1     1998-04-04   From Mr Anthony H Rowley Sir So-called Cool B...      1   \n",
       "2     2002-06-21   MobilCom jitters hit France Telecom France Te...      2   \n",
       "3     2002-06-14   The US administration will need to offer heav...      3   \n",
       "4     1998-04-01   Government plans to make fraudulent or neglig...      3   \n",
       "...          ...                                                ...    ...   \n",
       "1325  2002-06-21   The political career of Makiko Tanaka Japan's...      3   \n",
       "1326  2002-06-07   The ghost of Stephen Byers returned to haunt ...      3   \n",
       "1327  2002-06-21   From Mr Hans Ekdahl Sir The US recently slamm...      3   \n",
       "1328  2002-06-29   When Bernie Ebbers was ousted as WorldCom's c...      2   \n",
       "1329  2002-06-25   It would be easy for policy-makers to lull th...      2   \n",
       "\n",
       "      year  \n",
       "0     2002  \n",
       "1     1998  \n",
       "2     2002  \n",
       "3     2002  \n",
       "4     1998  \n",
       "...    ...  \n",
       "1325  2002  \n",
       "1326  2002  \n",
       "1327  2002  \n",
       "1328  2002  \n",
       "1329  2002  \n",
       "\n",
       "[1330 rows x 4 columns]"
      ]
     },
     "execution_count": 150,
     "metadata": {},
     "output_type": "execute_result"
    }
   ],
   "source": [
    "df_1998=df[df['year'] == 1998]\n",
    "df_2002=df[df['year'] == 2002]\n",
    "df_1998.append(df_2002).sort_index()"
   ]
  },
  {
   "cell_type": "markdown",
   "metadata": {},
   "source": [
    "# Question B"
   ]
  },
  {
   "cell_type": "code",
   "execution_count": 186,
   "metadata": {},
   "outputs": [
    {
     "data": {
      "text/plain": [
       "248"
      ]
     },
     "execution_count": 186,
     "metadata": {},
     "output_type": "execute_result"
    }
   ],
   "source": [
    "len(df_2002[df_2002['label'] == 1])"
   ]
  },
  {
   "cell_type": "markdown",
   "metadata": {},
   "source": [
    "# Question C"
   ]
  },
  {
   "cell_type": "code",
   "execution_count": 270,
   "metadata": {},
   "outputs": [
    {
     "data": {
      "image/png": "[encoded data removed]",
      "text/plain": [
       "<Figure size 936x288 with 2 Axes>"
      ]
     },
     "metadata": {
      "needs_background": "light"
     },
     "output_type": "display_data"
    }
   ],
   "source": [
    "numbofWordsList_1998 = []\n",
    "for news in df_1998.news:\n",
    "    words = [word for word in news.split(' ') if word != \"\"]\n",
    "    numbofWordsList_1998.append(len(words))\n",
    "\n",
    "numbofWordsList_2002 = []\n",
    "for news in df_2002.news:\n",
    "    words = [word for word in news.split(' ') if word != \"\"]\n",
    "    numbofWordsList_2002.append(len(words))\n",
    "\n",
    "plt.figure(1, figsize=(13, 4))\n",
    "plt.subplot(1,2,1)\n",
    "plt.hist(numbofWordsList_1998, bins = 100, color = 'g', label = '1998')\n",
    "plt.legend()\n",
    "plt.xlabel('Word count')\n",
    "plt.subplot(1,2,2)\n",
    "plt.hist(numbofWordsList_2002, bins = 100, color = 'r', label = '2002')\n",
    "plt.legend()\n",
    "plt.xlabel('Word count')\n",
    "plt.show()\n"
   ]
  },
  {
   "cell_type": "code",
   "execution_count": null,
   "metadata": {},
   "outputs": [],
   "source": []
  }
 ],
 "metadata": {
  "kernelspec": {
   "display_name": "Python 3",
   "language": "python",
   "name": "python3"
  },
  "language_info": {
   "codemirror_mode": {
    "name": "ipython",
    "version": 3
   },
   "file_extension": ".py",
   "mimetype": "text/x-python",
   "name": "python",
   "nbconvert_exporter": "python",
   "pygments_lexer": "ipython3",
   "version": "3.8.3"
  }
 },
 "nbformat": 4,
 "nbformat_minor": 4
}
